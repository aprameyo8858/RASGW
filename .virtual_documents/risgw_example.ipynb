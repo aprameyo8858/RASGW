





import sys
import numpy as np
import torch
sys.path.append('./lib')
from risgw import risgw_gpu
import matplotlib.pyplot as pl
from risgw import risgw_gpu
from sgw_pytorch import sgw_gpu


n_samples=300
Xs=np.random.rand(n_samples,1)
Xt=np.random.rand(n_samples,2)
#P=np.random.randn(2,500) # 500 projections are used


xs=torch.from_numpy(Xs).to(torch.float32)
xt=torch.from_numpy(Xt).to(torch.float32)
device = torch.device('cuda' if torch.cuda.is_available() else 'cpu')
xs=xs.to('cuda')
xt=xt.to('cuda')
print(device)


%%time
risgw_gpu(xs,xt,device,P=None,max_iter=10)





def make_spiral(n_samples, noise=.5):
    n = np.sqrt(np.random.rand(n_samples,1)) * 780 * (2*np.pi)/360
    d1x = -np.cos(n)*n + np.random.rand(n_samples,1) * noise
    d1y = np.sin(n)*n + np.random.rand(n_samples,1) * noise
    return np.array(np.hstack((d1x,d1y)))

get_rot= lambda theta : np.array([[np.cos(theta), -np.sin(theta)],[np.sin(theta),np.cos(theta)]])

def get_data(n_samples,theta,scale=1,transla=0):
    Xs = make_spiral(n_samples=n_samples, noise=1)-transla
    Xt = make_spiral(n_samples=n_samples, noise=1)
    
    A=get_rot(theta)
    
    Xt = (np.dot(Xt,A))*scale+transla
    
    return Xs,Xt

def get_P(d,L):
    res=np.random.randn(d,L)
    res/=np.sqrt(np.sum(res**2,0,keepdims=True))
    return res


n_samples=300
theta=0#p.pi/2
scale=1

Xs,Xt=get_data(n_samples,theta,scale=scale,transla=10)

temp,Xt2=get_data(n_samples,np.pi/2,scale=scale)
temp,Xt22=get_data(n_samples,np.pi/4,scale=scale)
Xt2[:,0]+=70
Xt22[:,0]+=35


a=0.5
pl.figure(2,figsize=(6,3))
pl.clf()
pl.scatter(Xs[:,0],Xs[:,1],marker='o',s=40,edgecolors='k',alpha=a,label='Source')
pl.scatter(Xt[:,0],Xt[:,1],marker='o',s=40,edgecolors='k',alpha=a,label="Target (rot=0)")
pl.scatter(Xt22[:,0],Xt22[:,1],marker='o',s=40,edgecolors='k',alpha=a,label="Target (rot=$\pi/4$)")
pl.scatter(Xt2[:,0],Xt2[:,1],marker='o',s=40,edgecolors='k',alpha=a,label="Target (rot=$\pi/2$)")
pl.xticks([])
pl.yticks([])
pl.title('Spiral datasets')
pl.legend()
pl.show()


nbrot=10
nbloop=5
angles=np.linspace(0,np.pi/2,nbrot)
scale=1
L=20


SGW=np.zeros((nbloop,nbrot))
RISGW=np.zeros((nbloop,nbrot))
rota={}
fname="res/spirale_rot2_L{}_nbloop{}_nbrot{}.npz"


for i in range(nbloop):
    
    P=get_P(2,L)
    Xs,Xt0=get_data(n_samples,0,scale=scale)
    
    for j,theta in enumerate(angles):
        
        A=get_rot(theta)
        Xt=Xt0.dot(A)
        xs=torch.from_numpy(Xs).to(torch.float32)
        xt=torch.from_numpy(Xt).to(torch.float32)
        xs=xs.to('cuda')
        xt=xt.to('cuda')
        P2=torch.from_numpy(P).to(torch.float32)
        device = torch.device('cuda' if torch.cuda.is_available() else 'cpu')
        P2=None
        
        SGW[i,j]=sgw_gpu(xs,xt,device=device,P=P2)
                
        RISGW[i,j]=risgw_gpu(xs,xt,device=device,P=P2,max_iter=600,verbose=False)
                        
        np.savez(fname.format(L,nbloop,nbrot),angles=angles,SGW=SGW,RISGW=RISGW)
    print('!!!!!!!!!!!!!!!!{0} Loop Done!!!!!!!!!!!!!!!!'.format(i))


res=np.load(fname.format(L,nbloop,nbrot))     
angles=res["angles"]
SGW=res["SGW"]
RISGW=res["RISGW"]
def plot_perf(nlist,err,color,label,errbar=False,perc=20):
    pl.plot(nlist,err.mean(0),label=label,color=color)
    if errbar:
        pl.fill_between(nlist,np.percentile(err,perc,axis=0),np.percentile(err,100-perc,axis=0),
                    alpha=0.2,facecolor=color)


do_err=True
pl.figure(1,(5,5))

pl.clf()
plot_perf(angles,SGW,'g','SGW',do_err)    
plot_perf(angles,RISGW,'k','RISGW',do_err) 

pl.title("Values for increasing rotation")
pl.grid()     
pl.xlabel('Rotation angle (radian)')

pl.xticks((0,np.pi/8,np.pi/4,3*np.pi/8,np.pi/2),('0','$\pi/8$','$\pi/4$','$3\pi/8$','$\pi/2$'))
pl.ylabel('Value')
pl.legend()





import numpy as np
import torch
import torch.nn.functional as F
import torch.nn as nn
from torch.utils import data as data_t
import torch.optim as optim
import pylab as pl
from mpl_toolkits.mplot3d import Axes3D
from sklearn import datasets

device = 'cuda' if torch.cuda.is_available() else 'cpu'

class StopError(Exception):
    pass

def create2D_ds(n_samples):
    noisy_circles = datasets.make_circles(n_samples=n_samples, factor=.5, noise=.05)
    X, y = noisy_circles
    X = (X - np.min(X)) / (np.max(X) - np.min(X))
    return X, y

def create3D_ds(n_samples):
    noisy_circles = datasets.make_circles(n_samples=n_samples, factor=.5, noise=.05)
    X, y = noisy_circles
    X = np.column_stack((X, np.repeat(1, X.shape[0])))
    
    X = (X - np.min(X)) / (np.max(X) - np.min(X))
    X[y == 1, 2] = X[y == 1, 2] + 2
    return X, y

def ds_to_torch(X, y):
    return torch.FloatTensor(X).to(device), torch.LongTensor(y).to(device)

N = 150
N_sup = 50  # number of supervised points
K = 2  # number of classes
X2D, y2D = create2D_ds(n_samples=N)
X3D, y3D = create3D_ds(N)

X2D_torch, y2D_torch = ds_to_torch(X2D, y2D)
X3D_torch, y3D_torch = ds_to_torch(X3D, y3D)

# 3D plotting
fig = pl.figure()
ax = fig.add_subplot(111, projection='3d')
colors = {0: 'r', 1: 'b', 2: 'k', 3: 'g'}
ax.scatter(np.array(X3D)[:, 0], np.array(X3D)[:, 1], np.array(X3D)[:, 2], c=[colors[y3D[i]] for i in range(len(y3D))])

# 2D plotting (use a separate z-value for visibility in 3D)
ax.scatter(np.array(X2D)[:, 0], np.array(X2D)[:, 1], -10, c=[colors[y2D[i]] for i in range(len(y2D))])

# Show the plot
pl.show()




