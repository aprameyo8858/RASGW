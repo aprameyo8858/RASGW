


import sys
import numpy as np
import torch
sys.path.append('./lib')
from sgw_numpy import sgw_cpu
from sgw_pytorch import sgw_gpu
import pylab as plt
from mpl_toolkits.mplot3d import Axes3D  
from matplotlib import gridspec
import imageio
import os








n_samples=300
Xs=np.random.rand(n_samples,2)
Xt=np.random.rand(n_samples,1)
P=np.random.randn(2,200) # 500 projections are used by SGW


%%time
sgw_cpu(Xs,Xt,P=P)





xs=torch.from_numpy(Xs).to(torch.float32)
xt=torch.from_numpy(Xt).to(torch.float32)
device = torch.device('cuda' if torch.cuda.is_available() else 'cpu')
xs=xs.to('cuda')
xt=xt.to('cuda')
print(device)


%%time
#sgw_gpu(xs,xt,device,P=torch.from_numpy(P).to(torch.float32))
sgw_gpu(xs,xt,device,P=None)





path='./data/meshes.npy'
tab_obj=np.load(path)
nproj=100


fig = plt.figure(figsize=(15,10))

X1=tab_obj[0]
ax = fig.add_subplot(121, projection='3d')
ax.scatter(X1[:,0],X1[:,2],X1[:,1], marker='o', s=20, c="goldenrod", alpha=0.6)
ax.view_init(elev=10., azim=360)
ax.set_axis_off()

ax = fig.add_subplot(122, projection='3d')
X2=tab_obj[15]
ax.scatter(X2[:,0],X2[:,2],X2[:,1], marker='o', s=20, c="blue", alpha=0.6)
ax.view_init(elev=10., azim=360)
ax.set_axis_off()


plt.suptitle('SGW distance with {0} projections = {1}'.format(nproj,sgw_cpu(X1,X2,nproj=nproj)),fontsize=15)
plt.show()


import re
def sorted_aphanumeric(data):
    convert = lambda text: int(text) if text.isdigit() else text.lower()
    alphanum_key = lambda key: [ convert(c) for c in re.split('([0-9]+)', key) ] 
    return sorted(data, key=alphanum_key)


alldist_sgw=[]
for i in range(len(tab_obj)):
    alldist_sgw.append(sgw_cpu(X1,tab_obj[i],nproj=nproj))


for i in range(len(tab_obj)):
#for i in range(1):
    fig = plt.figure(figsize=(15,10))
    gs = gridspec.GridSpec(2, 2, height_ratios=[4,2]) 

    ax = fig.add_subplot(gs[0,0], projection='3d')

    X1=tab_obj[0]
    ax.scatter(X1[:,0],X1[:,2],X1[:,1], marker='o', s=20, c="green", alpha=0.6)
    ax.view_init(elev=10., azim=360)
    ax.set_ylim([-0.5,0.8])
    ax.set_xlim([-0.5,0.5])
    ax.set_zlim([-0.5,0.8])
    
    ax.set_axis_off()


    ax = fig.add_subplot(gs[0,1], projection='3d')
    X2=tab_obj[i]
    ax.scatter(X2[:,0],X2[:,2],X2[:,1], marker='o', s=20, c="goldenrod", alpha=0.6)
    ax.view_init(elev=10., azim=360)
    ax.set_ylim([-0.5,0.8])
    ax.set_xlim([-0.5,0.5])
    ax.set_zlim([-0.5,0.8])

    ax.set_axis_off()


    ax = fig.add_subplot(gs[1,:])
    plt.plot(alldist_sgw[0:i],c='r',lw=2,marker='o')
    plt.ylim([0,0.009])
    plt.xlim([0,50])
    plt.legend(['Sliced Gromov-Wasserstein'])
    
    plt.tight_layout()

    plt.suptitle('SGW on galopping horses',fontsize=15)
    fig.savefig('./res/'+str(i)+'.png', dpi=fig.dpi)
    #plt.show()


path='./res/'
filenames=sorted_aphanumeric(os.listdir(path))
files=[path+f for f in filenames if 'png' in f]
images = []
for filename in files:
    images.append(imageio.imread(filename))
    
imageio.mimsave('horse.gif', images,fps=3)
